{
 "cells": [
  {
   "cell_type": "markdown",
   "id": "right-arena",
   "metadata": {},
   "source": [
    "# Bar Crawl Exercise\n"
   ]
  },
  {
   "cell_type": "markdown",
   "id": "be91fdb8-81ca-49e9-a7e7-cbd74d37df2b",
   "metadata": {
    "tags": []
   },
   "source": [
    "# Setup\n",
    "\n",
    "Import packages and load data. I used {get reference] to convert the original .csv files into .ftr (feather) to reduce size and load times. "
   ]
  },
  {
   "cell_type": "code",
   "execution_count": null,
   "id": "danish-effort",
   "metadata": {
    "ExecuteTime": {
     "end_time": "2022-09-12T17:56:08.933246Z",
     "start_time": "2022-09-12T17:56:08.388851Z"
    }
   },
   "outputs": [],
   "source": [
    "import opendatasets as od\n",
    "from BarCrawl_helpers import *\n",
    "\n",
    "import numpy as np\n",
    "import pandas as pd\n",
    "\n",
    "from scipy.signal import spectrogram\n",
    "from scipy.interpolate import interp1d\n",
    "\n",
    "from sklearn.decomposition import FastICA, PCA\n",
    "\n",
    "import matplotlib.pyplot as plt\n",
    "\n",
    "from os import listdir, walk, environ\n",
    "from os.path import isfile, join, exists\n",
    "\n",
    "import pickle\n",
    "\n",
    "import re as re\n",
    "from tqdm import tqdm\n",
    "\n",
    "import sys\n",
    "import warnings\n",
    "\n",
    "\n",
    "\n",
    "warnings.filterwarnings('ignore')"
   ]
  },
  {
   "cell_type": "code",
   "execution_count": 22,
   "id": "5981c910-7a3c-4f4d-8c65-042758d69e58",
   "metadata": {},
   "outputs": [],
   "source": [
    "TAC_limit = 0.08\n",
    "\n",
    "# Cartesian Accelerations and their ICA signals\n",
    "xyz = ['x', 'y', 'z']\n",
    "#C = ['C1', 'C2', 'C3']\n",
    "C = ['C1', 'C2']\n",
    "\n",
    "# Spherical Accelerations and their ICA signals\n",
    "rtp = ['rho', 'theta', 'phi']\n",
    "#S = ['S1', 'S2', 'S3']\n",
    "S = ['S1', 'S2']"
   ]
  },
  {
   "cell_type": "markdown",
   "id": "90571cd8-cebd-4322-aaf9-53d8bf180788",
   "metadata": {},
   "source": [
    "# Fetch Data and Initial Inspection\n",
    "\n",
    " - get data from Kaggle\n",
    " - create data folder\n",
    " - reduce memory usage (see citation for borrowed code snippet)\n",
    " - convert .csv to .ftr (feather) for faster loading in future runs\n"
   ]
  },
  {
   "cell_type": "code",
   "execution_count": null,
   "id": "dd4f3973-8ec1-4ec1-b04d-5715f6a9a3b3",
   "metadata": {},
   "outputs": [],
   "source": [
    "## Fetch Data"
   ]
  },
  {
   "cell_type": "code",
   "execution_count": null,
   "id": "a2201c95-8292-40d8-a06b-316518c739ba",
   "metadata": {},
   "outputs": [],
   "source": [
    "if not exists('./feather_data'):\n",
    "    od.download(\"https://www.kaggle.com/datasets/nautiyalamit/bar-crawl-detecting-heavy-drinking-data-set\")"
   ]
  },
  {
   "cell_type": "code",
   "execution_count": null,
   "id": "a42562bf-df54-42da-83ba-142e1c6e752b",
   "metadata": {},
   "outputs": [],
   "source": [
    "# The code in this cell is credited to \n",
    "# https://gist.github.com/fujiyuu75/748bc168c9ca8a49f86e144a08849893\n",
    "\n",
    "from pandas.api.types import is_datetime64_any_dtype as is_datetime\n",
    "from pandas.api.types import is_categorical_dtype\n",
    "\n",
    "def reduce_mem_usage(df, use_float16=False):\n",
    "    \"\"\"\n",
    "    Iterate through all the columns of a dataframe and modify the data type to reduce memory usage.        \n",
    "    \"\"\"\n",
    "    \n",
    "    start_mem = df.memory_usage().sum() / 1024**2\n",
    "    print(\"Memory usage of dataframe is {:.2f} MB\".format(start_mem))\n",
    "    \n",
    "    for col in df.columns:\n",
    "        if is_datetime(df[col]) or is_categorical_dtype(df[col]):\n",
    "            continue\n",
    "        col_type = df[col].dtype\n",
    "        \n",
    "        if col_type != object:\n",
    "            c_min = df[col].min()\n",
    "            c_max = df[col].max()\n",
    "            if str(col_type)[:3] == \"int\":\n",
    "                if c_min > np.iinfo(np.int8).min and c_max < np.iinfo(np.int8).max:\n",
    "                    df[col] = df[col].astype(np.int8)\n",
    "                elif c_min > np.iinfo(np.int16).min and c_max < np.iinfo(np.int16).max:\n",
    "                    df[col] = df[col].astype(np.int16)\n",
    "                elif c_min > np.iinfo(np.int32).min and c_max < np.iinfo(np.int32).max:\n",
    "                    df[col] = df[col].astype(np.int32)\n",
    "                elif c_min > np.iinfo(np.int64).min and c_max < np.iinfo(np.int64).max:\n",
    "                    df[col] = df[col].astype(np.int64)  \n",
    "            else:\n",
    "                if use_float16 and c_min > np.finfo(np.float16).min and c_max < np.finfo(np.float16).max:\n",
    "                    df[col] = df[col].astype(np.float16)\n",
    "                elif c_min > np.finfo(np.float32).min and c_max < np.finfo(np.float32).max:\n",
    "                    df[col] = df[col].astype(np.float32)\n",
    "                else:\n",
    "                    df[col] = df[col].astype(np.float64)\n",
    "        else:\n",
    "            df[col] = df[col].astype(\"category\")\n",
    "\n",
    "    end_mem = df.memory_usage().sum() / 1024**2\n",
    "    print(\"Memory usage after optimization is: {:.2f} MB\".format(end_mem))\n",
    "    print(\"Decreased by {:.1f}%\".format(100 * (start_mem - end_mem) / start_mem))\n",
    "    \n",
    "    return df"
   ]
  },
  {
   "cell_type": "code",
   "execution_count": null,
   "id": "41d64fb2-8580-4b92-a0f5-d6780002f7b8",
   "metadata": {},
   "outputs": [],
   "source": [
    "# kaggle datasets download -d nautiyalamit/bar-crawl-detecting-heavy-drinking-data-set"
   ]
  },
  {
   "cell_type": "markdown",
   "id": "5e139dd0-cacd-408c-80c8-9cc26749ef35",
   "metadata": {},
   "source": [
    "## Make Dataframes and Split Accelerometer Data by Subject "
   ]
  },
  {
   "cell_type": "code",
   "execution_count": null,
   "id": "composite-classroom",
   "metadata": {
    "ExecuteTime": {
     "end_time": "2022-09-12T17:56:13.175905Z",
     "start_time": "2022-09-12T17:56:13.171949Z"
    }
   },
   "outputs": [],
   "source": [
    "datafolder = 'feather_data'\n",
    "acc_datafile = 'all_accelerometer_data_pids_13.ftr'\n",
    "phone_datafile = 'phone_types.ftr'\n",
    "\n",
    "all_acc_df = pd.read_feather(join(datafolder, acc_datafile))\n",
    "phones_df = pd.read_feather(join(datafolder, phone_datafile))"
   ]
  },
  {
   "cell_type": "code",
   "execution_count": null,
   "id": "52d235a9-0137-48bf-af0f-fca716f64e2f",
   "metadata": {},
   "outputs": [],
   "source": [
    "all_acc_df.head()"
   ]
  },
  {
   "cell_type": "code",
   "execution_count": null,
   "id": "ad27c6f6-fb01-4f75-957a-b6726e27b115",
   "metadata": {},
   "outputs": [],
   "source": [
    "# make a dictionary of TAC files with keys being subject PIDs\n",
    "# # pattern = re.compile(r'\\D{2}\\d{4}')\n",
    "# pattern = re.compile(r'\\D{2}\\d{4}')\n",
    "# tac_files = [filename if re.match(r'\\D{2}\\d{4}',filename) for filename in listdir(datafolder)].sort()\n",
    "\n",
    "tac_files = sorted([filename for filename in listdir(datafolder) if re.match(r'\\D{2}\\d{4}',filename)])\n",
    "pid_list = [filename[0:6] for filename in tac_files]\n",
    "\n",
    "tac_df = {}\n",
    "\n",
    "for tac_file in tac_files:\n",
    "    pid = tac_file[0:6]\n",
    "    if tac_file.endswith('.ftr'):\n",
    "        tac_df[pid] = pd.read_feather(join(datafolder, tac_file))\n",
    "    elif tac_file.endswith('.csv'):\n",
    "        tac_df[pid] = pd.read_csv(join(datafolder, tac_file))\n",
    "    else:\n",
    "        print('%s is neither a .csv or .ftr' % tac_file)"
   ]
  },
  {
   "cell_type": "code",
   "execution_count": null,
   "id": "4a952b8d-1885-4219-b2ad-db3ba430e08c",
   "metadata": {},
   "outputs": [],
   "source": [
    "acc_df = {}\n",
    "\n",
    "for pid in pid_list:\n",
    "    acc_df[pid] = all_acc_df[all_acc_df.pid==pid].reset_index().drop(columns = 'index')"
   ]
  },
  {
   "cell_type": "markdown",
   "id": "ba5a0859-e397-4eed-ba03-b5d111a75985",
   "metadata": {},
   "source": [
    "## Initial inspection\n",
    "\n",
    "Notes:\n",
    "\n",
    " - acceleration time stamps in milliseconds sampled nominally at 40 Hz\n",
    " - some subjects' acceleration data starts with a spurious zero reading\n",
    " - TAC time stamps in seconds"
   ]
  },
  {
   "cell_type": "code",
   "execution_count": null,
   "id": "af45004f-82de-48da-bdc4-c1892250ae98",
   "metadata": {},
   "outputs": [],
   "source": [
    "for pid in pid_list:\n",
    "    print(acc_df[pid].head(2))"
   ]
  },
  {
   "cell_type": "code",
   "execution_count": null,
   "id": "15b8804a-468e-46b0-9ea8-437759e171e7",
   "metadata": {},
   "outputs": [],
   "source": [
    "for pid in pid_list:\n",
    "    print(tac_df[pid].head(2))"
   ]
  },
  {
   "cell_type": "code",
   "execution_count": null,
   "id": "40f2e0af-73a1-42a3-95a5-e995d324daa4",
   "metadata": {},
   "outputs": [],
   "source": [
    "fig, ax = plt.subplots(3,5, figsize=(12,7), sharex=True, sharey = True)\n",
    "\n",
    "direction = 'x';\n",
    "\n",
    "for k, pid in enumerate(pid_list):\n",
    "    acc_df[pid].iloc[1:-1].plot(x='time', y = direction, marker = '.', markersize = 1, linestyle = 'none', ax = ax[k%3, int(np.floor(k/3))], legend=False)\n",
    "    ax[k%3, int(np.floor(k/3))].set_title(pid)\n",
    "    \n",
    "fig.suptitle(f'{direction}-Acceleration Data')\n",
    "fig.delaxes(ax[1,4])\n",
    "fig.delaxes(ax[2,4])\n",
    "plt.tight_layout()\n",
    "plt.show()"
   ]
  },
  {
   "cell_type": "code",
   "execution_count": null,
   "id": "616bad0d-5ba8-482f-b97b-471294912420",
   "metadata": {},
   "outputs": [],
   "source": [
    "fig, ax = plt.subplots(3,5, figsize=(12,7), sharey=True)\n",
    "\n",
    "\n",
    "for k, pid in enumerate(pid_list):\n",
    "    tac_df[pid].iloc[1:-1].plot(x='timestamp', y = 'TAC_Reading', marker = '.', markersize=1, linestyle = 'none', ax = ax[k%3, int(np.floor(k/3))], legend=False)\n",
    "    ax[k%3, int(np.floor(k/3))].set_title(pid)\n",
    "    \n",
    "fig.suptitle('TAC Data')\n",
    "fig.delaxes(ax[1,4])\n",
    "fig.delaxes(ax[2,4])\n",
    "plt.tight_layout()\n",
    "plt.show()"
   ]
  },
  {
   "cell_type": "markdown",
   "id": "a1645402-71b3-4394-8a1f-908d69858656",
   "metadata": {},
   "source": [
    "## Observations\n",
    "\n",
    " - every subject has patches of missing data\n",
    " - subjects JB3156 and CC6740 accelerometer data looks categorically different; coincidentally, both subjects use Android phones. For now, I'll restrict the analysis to iPhone data.\n",
    " - TAC data looks okay"
   ]
  },
  {
   "cell_type": "markdown",
   "id": "69c023ef-22a0-4beb-bb67-cda93eeaf5a1",
   "metadata": {},
   "source": [
    "# Clean Up and Transform Data\n",
    "\n",
    " - Remove unusable subject data\n",
    " - Convert accelerometer time to seconds and resample TAC to align with accelerometer timestamps\n",
    " - Snip out 8 sec clips. Why 8 sec? We're attempting to infer blood alcohol levels from accelerations induced by the subjects' movement patterns. If the acceleration data encodes bouts of walking, a rhythmic behavior, the frequency content of acceleration signals could be useful. Typically, h Most notably,  though we may also find accelerations suggesting the subject has fallen or dropped their phone.\n"
   ]
  },
  {
   "cell_type": "code",
   "execution_count": null,
   "id": "3afa7fee-1321-443d-84f0-572a2474e4b0",
   "metadata": {},
   "outputs": [],
   "source": [
    "pid_remove = ['JB3156', 'CC6740']\n",
    "\n",
    "for pid in pid_remove:\n",
    "    if pid in pid_list:\n",
    "        pid_list.remove(pid)\n",
    "    acc_df.pop(pid, None)\n",
    "    tac_df.pop(pid, None)"
   ]
  },
  {
   "cell_type": "code",
   "execution_count": null,
   "id": "2ac0b320-e87d-4cfd-99f9-922f4f7a75ce",
   "metadata": {},
   "outputs": [],
   "source": [
    "for pid in pid_list:\n",
    "    try:\n",
    "        tac_df[pid].rename(columns={'timestamp':'time_s'}, inplace=True)\n",
    "        acc_df[pid]['time_s'] = acc_df[pid]['time'].to_numpy()/1000\n",
    "        del acc_df[pid]['time']\n",
    "    except:\n",
    "        print('already been done')\n",
    "    \n",
    "    linear_interp = interp1d(tac_df[pid]['time_s'].to_numpy(), tac_df[pid]['TAC_Reading'], kind='linear', axis=0, bounds_error=False)\n",
    "    acc_df[pid]['tac'] = linear_interp(acc_df[pid]['time_s'].to_numpy())\n",
    "    \n",
    "    acc_df[pid].dropna(axis=0, how = 'any', inplace=True)   # tac readings extend past accelerometer readings, so trim down where extrapolation gives Null tac values\n",
    "    \n",
    "    tac_df[pid]['time_s'] = tac_df[pid]['time_s'].to_numpy() - acc_df[pid]['time_s'][0]\n",
    "    acc_df[pid]['time_s'] = acc_df[pid]['time_s'].to_numpy() - acc_df[pid]['time_s'][0]\n"
   ]
  },
  {
   "cell_type": "code",
   "execution_count": null,
   "id": "8469b300-a555-41c0-9cb9-6d9765fd703f",
   "metadata": {},
   "outputs": [],
   "source": [
    "fig, ax = plt.subplots(3,4, figsize=(20, 10), sharex=True, sharey=True)\n",
    "\n",
    "for k, pid in enumerate(pid_list):\n",
    "    tac_df[pid].plot(x='time_s', y = 'TAC_Reading', ax = ax[k%3, int(np.floor(k/3))], \\\n",
    "                                     legend=False)\n",
    "    acc_df[pid].plot(x='time_s', y = 'tac', ax = ax[k%3, int(np.floor(k/3))], \\\n",
    "                                     marker = '.', linestyle = 'none',\\\n",
    "                                     legend=False)\n",
    "    ax[k%3, int(np.floor(k/3))].plot(acc_df[pid].time_s, np.zeros(len(acc_df[pid].time_s)), \\\n",
    "                                                    marker = '.', linestyle = 'none')\n",
    "\n",
    "    ax[k%3, int(np.floor(k/3))].set_title(pid, pad = -10)\n",
    "\n",
    "lines = ax[0,0].get_lines()\n",
    "labels = ['original TAC', 'interpolated TAC', 'Support']\n",
    "fig.legend(lines, labels)\n",
    "\n",
    "fig.delaxes(ax[2,3])\n",
    "plt.tight_layout()\n",
    "plt.show()"
   ]
  },
  {
   "cell_type": "markdown",
   "id": "b58d4a8c-197f-4c39-91b0-969d3388a809",
   "metadata": {},
   "source": [
    "Explain windowing. overlap = 0.5"
   ]
  },
  {
   "cell_type": "markdown",
   "id": "c17c3e94-5da4-4154-b5fc-95d8882c7a23",
   "metadata": {},
   "source": [
    "Transforming signals\n",
    "\n",
    "Glossary:\n",
    "\n",
    "pid\n",
    "sid\n",
    "x,y,z\n",
    "rho, theta, phi\n",
    "\n",
    "fftx,ffty,fftz\n",
    "fftr,fftt,fftp"
   ]
  },
  {
   "cell_type": "code",
   "execution_count": null,
   "id": "132fe9fa-8ed0-4813-a1fe-a7f9685aaefa",
   "metadata": {},
   "outputs": [],
   "source": [
    "# Cartesian Accelerations and their ICA signals\n",
    "xyz = ['x', 'y', 'z']\n",
    "#C = ['C1', 'C2', 'C3']\n",
    "C = ['C1', 'C2']\n",
    "\n",
    "# Spherical Accelerations and their ICA signals\n",
    "rtp = ['rho', 'theta', 'phi']\n",
    "#S = ['S1', 'S2', 'S3']\n",
    "S = ['S1', 'S2']\n",
    "\n",
    "#ica = FastICA(n_components=2, algorithm = 'parallel', whiten = 'arbitrary-variance', tol=1e-3, max_iter=500)\n",
    "pca = PCA(n_components=2)"
   ]
  },
  {
   "cell_type": "code",
   "execution_count": null,
   "id": "13988653-6ca2-4305-bb63-7881f4ef38a8",
   "metadata": {},
   "outputs": [],
   "source": [
    "win_sec = 10  # sliding window in seconds\n",
    "win = win_sec * 40   # sliding window size in number of samples\n",
    "\n",
    "win_14 = int(win/4)\n",
    "win_12 = int(win/2)\n",
    "win_34 = int(3*win/4)\n",
    "\n",
    "win_slide = win_34\n",
    "\n",
    "\n",
    "subject_data = {}\n",
    "\n",
    "for pid in pid_list:\n",
    "    print(f\"{pid}...\")\n",
    "    \n",
    "    acc_df[pid].dropna(axis=0, how = 'any')\n",
    "    gap_idx = np.argwhere([np.diff(acc_df[pid].time_s)>0.25])[:,1]\n",
    "    gap_idx = np.append(np.array([0]), gap_idx)\n",
    "\n",
    "    gap_pairs = np.vstack((gap_idx[0:-2], gap_idx[1:-1])).transpose()\n",
    "    gap_sizes = np.squeeze(np.diff(gap_pairs, axis=1))\n",
    "    \n",
    "    sample = []\n",
    "    sample_fft = []\n",
    "    sample_count = 0\n",
    "    \n",
    "    for k, gap in tqdm(enumerate(gap_sizes)):\n",
    "        if gap>win:\n",
    "            start_idx = int(((gap%(win_34))/2) + gap_idx[k])\n",
    "            while (start_idx + win) < gap_pairs[k, 1]:\n",
    "                s = acc_df[pid].iloc[start_idx:(start_idx+win)].reset_index().drop(columns='index')\n",
    "                s = s.assign(sid=sample_count)\n",
    "                \n",
    "                s[rtp] = cart_to_spherical(s[xyz].to_numpy())\n",
    "                # mmm = np.linalg.norm(s[xyz].to_numpy(), axis = 1)\n",
    "                # s['rho'] = np.linalg.norm(s[xyz].to_numpy(), axis = 1)   # Just using rho, vector magnitude\n",
    "                \n",
    "                s[C] = pca.fit_transform(s[xyz].to_numpy())\n",
    "                s[S] = pca.fit_transform(s[rtp].to_numpy())\n",
    "                \n",
    "                sf = s[['pid', 'sid']].iloc[0:win_14]\n",
    "                \n",
    "                sf['freq'] = np.fft.fftfreq(win, 0.025)[0:win_14]\n",
    "                sf[xyz] = np.abs(np.fft.fft(s[xyz].to_numpy(), axis=0))[0:win_14,:]\n",
    "                sf[rtp] = np.abs(np.fft.fft(s[rtp].to_numpy(), axis=0))[0:win_14,:]\n",
    "                \n",
    "                sf[C] = np.abs(np.fft.fft(s[C].to_numpy(), axis=0))[0:win_14,:]\n",
    "                sf[S] = np.abs(np.fft.fft(s[S].to_numpy(), axis=0))[0:win_14,:]\n",
    "                \n",
    "                sample_count+=1\n",
    "                \n",
    "                sample.append(s[['pid', 'sid', 'tac', 'time_s'] + xyz + C + rtp + S])\n",
    "                sample_fft.append(sf[['pid', 'sid', 'freq'] + xyz + C + rtp + S])\n",
    "                \n",
    "                start_idx += win_slide\n",
    "    \n",
    "    sample_df = pd.concat(sample).reset_index()\n",
    "    sample_df.drop(columns = 'index', inplace=True)\n",
    "    \n",
    "    sample_fft_df = pd.concat(sample_fft).reset_index()\n",
    "    sample_fft_df.drop(columns = 'index', inplace=True)\n",
    "\n",
    "    subject_data[pid] = {'sample':sample_df, 'sample_fft':sample_fft_df}\n",
    "\n",
    "print('...done.')"
   ]
  },
  {
   "cell_type": "code",
   "execution_count": null,
   "id": "8a118887-7d80-4a19-8b99-388ee23def80",
   "metadata": {},
   "outputs": [],
   "source": [
    "pickle.dump(subject_data, open(\"subject_data.p\",\"wb\"))"
   ]
  },
  {
   "cell_type": "markdown",
   "id": "5e4f9f3b-e351-4eb2-8a62-aa64dd8885ee",
   "metadata": {},
   "source": [
    "# Statistics, normalization, and feature creation"
   ]
  },
  {
   "cell_type": "code",
   "execution_count": 1,
   "id": "cc034aee-1928-478f-bcc5-8fdad1f6ed56",
   "metadata": {},
   "outputs": [],
   "source": [
    "import opendatasets as od\n",
    "from BarCrawl_helpers import *\n",
    "\n",
    "import numpy as np\n",
    "import pandas as pd\n",
    "\n",
    "from scipy.signal import spectrogram\n",
    "from scipy.interpolate import interp1d\n",
    "\n",
    "from sklearn.decomposition import FastICA, PCA\n",
    "\n",
    "import matplotlib.pyplot as plt\n",
    "\n",
    "from os import listdir, walk, environ\n",
    "from os.path import isfile, join, exists\n",
    "\n",
    "import pickle\n",
    "\n",
    "import re as re\n",
    "from tqdm import tqdm\n",
    "\n",
    "import sys\n",
    "import warnings\n",
    "\n",
    "\n",
    "\n",
    "warnings.filterwarnings('ignore')"
   ]
  },
  {
   "cell_type": "code",
   "execution_count": 4,
   "id": "e2f78d29-514b-4ddd-9957-15b18a116461",
   "metadata": {},
   "outputs": [],
   "source": [
    "if exists('subject_data.p'):\n",
    "    subject_data =pickle.load(open(\"subject_data.p\",\"rb\"))\n",
    "    \n",
    "pid_list = list(subject_data.keys())\n",
    "\n",
    "pp = pid_list[0]"
   ]
  },
  {
   "cell_type": "code",
   "execution_count": 5,
   "id": "2864db8f-f8ab-4198-b298-66769a8f3e15",
   "metadata": {},
   "outputs": [
    {
     "data": {
      "text/html": [
       "<div>\n",
       "<style scoped>\n",
       "    .dataframe tbody tr th:only-of-type {\n",
       "        vertical-align: middle;\n",
       "    }\n",
       "\n",
       "    .dataframe tbody tr th {\n",
       "        vertical-align: top;\n",
       "    }\n",
       "\n",
       "    .dataframe thead th {\n",
       "        text-align: right;\n",
       "    }\n",
       "</style>\n",
       "<table border=\"1\" class=\"dataframe\">\n",
       "  <thead>\n",
       "    <tr style=\"text-align: right;\">\n",
       "      <th></th>\n",
       "      <th>pid</th>\n",
       "      <th>sid</th>\n",
       "      <th>tac</th>\n",
       "      <th>time_s</th>\n",
       "      <th>x</th>\n",
       "      <th>y</th>\n",
       "      <th>z</th>\n",
       "      <th>C1</th>\n",
       "      <th>C2</th>\n",
       "      <th>rho</th>\n",
       "      <th>theta</th>\n",
       "      <th>phi</th>\n",
       "      <th>S1</th>\n",
       "      <th>S2</th>\n",
       "    </tr>\n",
       "  </thead>\n",
       "  <tbody>\n",
       "    <tr>\n",
       "      <th>0</th>\n",
       "      <td>BK7610</td>\n",
       "      <td>0</td>\n",
       "      <td>0.056953</td>\n",
       "      <td>2.451</td>\n",
       "      <td>-0.004002</td>\n",
       "      <td>0.0052</td>\n",
       "      <td>0.0010</td>\n",
       "      <td>-0.007883</td>\n",
       "      <td>0.003459</td>\n",
       "      <td>0.006637</td>\n",
       "      <td>2.226662</td>\n",
       "      <td>1.419537</td>\n",
       "      <td>53.152622</td>\n",
       "      <td>0.029924</td>\n",
       "    </tr>\n",
       "    <tr>\n",
       "      <th>1</th>\n",
       "      <td>BK7610</td>\n",
       "      <td>0</td>\n",
       "      <td>0.056954</td>\n",
       "      <td>2.476</td>\n",
       "      <td>-0.000500</td>\n",
       "      <td>0.0302</td>\n",
       "      <td>0.0227</td>\n",
       "      <td>0.002352</td>\n",
       "      <td>-0.028041</td>\n",
       "      <td>0.037783</td>\n",
       "      <td>1.587354</td>\n",
       "      <td>0.926298</td>\n",
       "      <td>52.513302</td>\n",
       "      <td>-0.463420</td>\n",
       "    </tr>\n",
       "    <tr>\n",
       "      <th>2</th>\n",
       "      <td>BK7610</td>\n",
       "      <td>0</td>\n",
       "      <td>0.056954</td>\n",
       "      <td>2.500</td>\n",
       "      <td>-0.009102</td>\n",
       "      <td>0.0300</td>\n",
       "      <td>0.0420</td>\n",
       "      <td>0.021428</td>\n",
       "      <td>-0.033232</td>\n",
       "      <td>0.052410</td>\n",
       "      <td>1.865361</td>\n",
       "      <td>0.641213</td>\n",
       "      <td>52.791313</td>\n",
       "      <td>-0.748561</td>\n",
       "    </tr>\n",
       "    <tr>\n",
       "      <th>3</th>\n",
       "      <td>BK7610</td>\n",
       "      <td>0</td>\n",
       "      <td>0.056954</td>\n",
       "      <td>2.527</td>\n",
       "      <td>-0.018997</td>\n",
       "      <td>-0.0031</td>\n",
       "      <td>0.0049</td>\n",
       "      <td>0.000973</td>\n",
       "      <td>0.013144</td>\n",
       "      <td>0.019862</td>\n",
       "      <td>3.303344</td>\n",
       "      <td>1.321519</td>\n",
       "      <td>54.229298</td>\n",
       "      <td>-0.068150</td>\n",
       "    </tr>\n",
       "    <tr>\n",
       "      <th>4</th>\n",
       "      <td>BK7610</td>\n",
       "      <td>0</td>\n",
       "      <td>0.056954</td>\n",
       "      <td>2.551</td>\n",
       "      <td>-0.016693</td>\n",
       "      <td>-0.0209</td>\n",
       "      <td>-0.0183</td>\n",
       "      <td>-0.014145</td>\n",
       "      <td>0.037377</td>\n",
       "      <td>0.032409</td>\n",
       "      <td>4.038433</td>\n",
       "      <td>2.170805</td>\n",
       "      <td>54.964397</td>\n",
       "      <td>0.781079</td>\n",
       "    </tr>\n",
       "  </tbody>\n",
       "</table>\n",
       "</div>"
      ],
      "text/plain": [
       "      pid  sid       tac  time_s         x       y       z        C1  \\\n",
       "0  BK7610    0  0.056953   2.451 -0.004002  0.0052  0.0010 -0.007883   \n",
       "1  BK7610    0  0.056954   2.476 -0.000500  0.0302  0.0227  0.002352   \n",
       "2  BK7610    0  0.056954   2.500 -0.009102  0.0300  0.0420  0.021428   \n",
       "3  BK7610    0  0.056954   2.527 -0.018997 -0.0031  0.0049  0.000973   \n",
       "4  BK7610    0  0.056954   2.551 -0.016693 -0.0209 -0.0183 -0.014145   \n",
       "\n",
       "         C2       rho     theta       phi         S1        S2  \n",
       "0  0.003459  0.006637  2.226662  1.419537  53.152622  0.029924  \n",
       "1 -0.028041  0.037783  1.587354  0.926298  52.513302 -0.463420  \n",
       "2 -0.033232  0.052410  1.865361  0.641213  52.791313 -0.748561  \n",
       "3  0.013144  0.019862  3.303344  1.321519  54.229298 -0.068150  \n",
       "4  0.037377  0.032409  4.038433  2.170805  54.964397  0.781079  "
      ]
     },
     "execution_count": 5,
     "metadata": {},
     "output_type": "execute_result"
    }
   ],
   "source": [
    "subject_data[pp]['sample'].head()"
   ]
  },
  {
   "cell_type": "code",
   "execution_count": 6,
   "id": "23620e36-d58a-4996-abf6-da9d9ebb4eb9",
   "metadata": {},
   "outputs": [
    {
     "data": {
      "text/html": [
       "<div>\n",
       "<style scoped>\n",
       "    .dataframe tbody tr th:only-of-type {\n",
       "        vertical-align: middle;\n",
       "    }\n",
       "\n",
       "    .dataframe tbody tr th {\n",
       "        vertical-align: top;\n",
       "    }\n",
       "\n",
       "    .dataframe thead th {\n",
       "        text-align: right;\n",
       "    }\n",
       "</style>\n",
       "<table border=\"1\" class=\"dataframe\">\n",
       "  <thead>\n",
       "    <tr style=\"text-align: right;\">\n",
       "      <th></th>\n",
       "      <th>pid</th>\n",
       "      <th>sid</th>\n",
       "      <th>freq</th>\n",
       "      <th>x</th>\n",
       "      <th>y</th>\n",
       "      <th>z</th>\n",
       "      <th>C1</th>\n",
       "      <th>C2</th>\n",
       "      <th>rho</th>\n",
       "      <th>theta</th>\n",
       "      <th>phi</th>\n",
       "      <th>S1</th>\n",
       "      <th>S2</th>\n",
       "    </tr>\n",
       "  </thead>\n",
       "  <tbody>\n",
       "    <tr>\n",
       "      <th>0</th>\n",
       "      <td>BK7610</td>\n",
       "      <td>0</td>\n",
       "      <td>0.0</td>\n",
       "      <td>0.378693</td>\n",
       "      <td>1.490600</td>\n",
       "      <td>3.918900</td>\n",
       "      <td>3.325113e-08</td>\n",
       "      <td>2.854231e-07</td>\n",
       "      <td>22.043338</td>\n",
       "      <td>20370.383392</td>\n",
       "      <td>555.755966</td>\n",
       "      <td>0.000844</td>\n",
       "      <td>0.000033</td>\n",
       "    </tr>\n",
       "    <tr>\n",
       "      <th>1</th>\n",
       "      <td>BK7610</td>\n",
       "      <td>0</td>\n",
       "      <td>0.1</td>\n",
       "      <td>0.800844</td>\n",
       "      <td>0.361167</td>\n",
       "      <td>1.319130</td>\n",
       "      <td>1.319580e+00</td>\n",
       "      <td>2.885166e-01</td>\n",
       "      <td>2.160941</td>\n",
       "      <td>5761.442678</td>\n",
       "      <td>14.831388</td>\n",
       "      <td>5761.442603</td>\n",
       "      <td>14.847070</td>\n",
       "    </tr>\n",
       "    <tr>\n",
       "      <th>2</th>\n",
       "      <td>BK7610</td>\n",
       "      <td>0</td>\n",
       "      <td>0.2</td>\n",
       "      <td>1.028118</td>\n",
       "      <td>0.194124</td>\n",
       "      <td>1.900259</td>\n",
       "      <td>1.723881e+00</td>\n",
       "      <td>8.110972e-01</td>\n",
       "      <td>7.182344</td>\n",
       "      <td>2793.766444</td>\n",
       "      <td>6.572983</td>\n",
       "      <td>2793.767203</td>\n",
       "      <td>6.613408</td>\n",
       "    </tr>\n",
       "    <tr>\n",
       "      <th>3</th>\n",
       "      <td>BK7610</td>\n",
       "      <td>0</td>\n",
       "      <td>0.3</td>\n",
       "      <td>1.771755</td>\n",
       "      <td>0.063159</td>\n",
       "      <td>1.914804</td>\n",
       "      <td>1.951763e+00</td>\n",
       "      <td>5.754892e-01</td>\n",
       "      <td>2.679532</td>\n",
       "      <td>2055.167258</td>\n",
       "      <td>24.323244</td>\n",
       "      <td>2055.167431</td>\n",
       "      <td>24.309304</td>\n",
       "    </tr>\n",
       "    <tr>\n",
       "      <th>4</th>\n",
       "      <td>BK7610</td>\n",
       "      <td>0</td>\n",
       "      <td>0.4</td>\n",
       "      <td>1.190414</td>\n",
       "      <td>0.189216</td>\n",
       "      <td>2.313085</td>\n",
       "      <td>2.183559e+00</td>\n",
       "      <td>9.284566e-01</td>\n",
       "      <td>3.242622</td>\n",
       "      <td>1081.244810</td>\n",
       "      <td>19.618106</td>\n",
       "      <td>1081.244380</td>\n",
       "      <td>19.614105</td>\n",
       "    </tr>\n",
       "  </tbody>\n",
       "</table>\n",
       "</div>"
      ],
      "text/plain": [
       "      pid  sid  freq         x         y         z            C1  \\\n",
       "0  BK7610    0   0.0  0.378693  1.490600  3.918900  3.325113e-08   \n",
       "1  BK7610    0   0.1  0.800844  0.361167  1.319130  1.319580e+00   \n",
       "2  BK7610    0   0.2  1.028118  0.194124  1.900259  1.723881e+00   \n",
       "3  BK7610    0   0.3  1.771755  0.063159  1.914804  1.951763e+00   \n",
       "4  BK7610    0   0.4  1.190414  0.189216  2.313085  2.183559e+00   \n",
       "\n",
       "             C2        rho         theta         phi           S1         S2  \n",
       "0  2.854231e-07  22.043338  20370.383392  555.755966     0.000844   0.000033  \n",
       "1  2.885166e-01   2.160941   5761.442678   14.831388  5761.442603  14.847070  \n",
       "2  8.110972e-01   7.182344   2793.766444    6.572983  2793.767203   6.613408  \n",
       "3  5.754892e-01   2.679532   2055.167258   24.323244  2055.167431  24.309304  \n",
       "4  9.284566e-01   3.242622   1081.244810   19.618106  1081.244380  19.614105  "
      ]
     },
     "execution_count": 6,
     "metadata": {},
     "output_type": "execute_result"
    }
   ],
   "source": [
    "subject_data[pp]['sample_fft'].head()\n",
    "# stats_fft_temp = subject_data[pid]['sample_fft'].drop(columns='freq').groupby(['pid', 'sid']).agg([power, dc, peak, peak_freq])"
   ]
  },
  {
   "cell_type": "code",
   "execution_count": 14,
   "id": "45f9d2a6-9878-48f0-a8ff-9440f33505eb",
   "metadata": {},
   "outputs": [
    {
     "name": "stderr",
     "output_type": "stream",
     "text": [
      "  0%|          | 0/11 [00:00<?, ?it/s]"
     ]
    },
    {
     "name": "stdout",
     "output_type": "stream",
     "text": [
      "BK7610\n"
     ]
    },
    {
     "name": "stderr",
     "output_type": "stream",
     "text": [
      "  9%|▉         | 1/11 [00:10<01:44, 10.46s/it]"
     ]
    },
    {
     "name": "stdout",
     "output_type": "stream",
     "text": [
      "BU4707\n"
     ]
    },
    {
     "name": "stderr",
     "output_type": "stream",
     "text": [
      " 18%|█▊        | 2/11 [00:14<01:02,  6.91s/it]"
     ]
    },
    {
     "name": "stdout",
     "output_type": "stream",
     "text": [
      "DC6359\n"
     ]
    },
    {
     "name": "stderr",
     "output_type": "stream",
     "text": [
      " 27%|██▋       | 3/11 [00:20<00:50,  6.34s/it]"
     ]
    },
    {
     "name": "stdout",
     "output_type": "stream",
     "text": [
      "DK3500\n"
     ]
    },
    {
     "name": "stderr",
     "output_type": "stream",
     "text": [
      " 36%|███▋      | 4/11 [00:21<00:29,  4.22s/it]"
     ]
    },
    {
     "name": "stdout",
     "output_type": "stream",
     "text": [
      "HV0618\n"
     ]
    },
    {
     "name": "stderr",
     "output_type": "stream",
     "text": [
      " 45%|████▌     | 5/11 [00:26<00:25,  4.32s/it]"
     ]
    },
    {
     "name": "stdout",
     "output_type": "stream",
     "text": [
      "JR8022\n"
     ]
    },
    {
     "name": "stderr",
     "output_type": "stream",
     "text": [
      " 55%|█████▍    | 6/11 [00:28<00:19,  3.86s/it]"
     ]
    },
    {
     "name": "stdout",
     "output_type": "stream",
     "text": [
      "MC7070\n"
     ]
    },
    {
     "name": "stderr",
     "output_type": "stream",
     "text": [
      " 64%|██████▎   | 7/11 [00:31<00:13,  3.47s/it]"
     ]
    },
    {
     "name": "stdout",
     "output_type": "stream",
     "text": [
      "MJ8002\n"
     ]
    },
    {
     "name": "stderr",
     "output_type": "stream",
     "text": [
      " 73%|███████▎  | 8/11 [00:37<00:12,  4.08s/it]"
     ]
    },
    {
     "name": "stdout",
     "output_type": "stream",
     "text": [
      "PC6771\n"
     ]
    },
    {
     "name": "stderr",
     "output_type": "stream",
     "text": [
      " 82%|████████▏ | 9/11 [00:42<00:09,  4.67s/it]"
     ]
    },
    {
     "name": "stdout",
     "output_type": "stream",
     "text": [
      "SA0297\n"
     ]
    },
    {
     "name": "stderr",
     "output_type": "stream",
     "text": [
      " 91%|█████████ | 10/11 [00:45<00:04,  4.06s/it]"
     ]
    },
    {
     "name": "stdout",
     "output_type": "stream",
     "text": [
      "SF3079\n"
     ]
    },
    {
     "name": "stderr",
     "output_type": "stream",
     "text": [
      "100%|██████████| 11/11 [00:53<00:00,  4.82s/it]"
     ]
    },
    {
     "name": "stdout",
     "output_type": "stream",
     "text": [
      "...done.\n"
     ]
    },
    {
     "name": "stderr",
     "output_type": "stream",
     "text": [
      "\n"
     ]
    }
   ],
   "source": [
    "subject_stats = {}\n",
    "\n",
    "for pid in tqdm(pid_list):\n",
    "    print(pid)\n",
    "    \n",
    "    stats_temp = subject_data[pid]['sample'].drop(columns = 'time_s').groupby(['sid']).agg(['mean', 'std', 'max', 'min'])\n",
    "    stats_temp.drop(columns = ['tac_min', 'tac_mean', 'tac_std'], inplace=True, errors = 'ignore')\n",
    "    stats_temp.rename(columns = {'tac_max':'tac'}, inplace=True)\n",
    "    \n",
    "    # stats_fft_temp = subject_data[pid]['sample_fft'].drop(columns='freq').groupby(['pid', 'sid']).agg([power, dc, peak, peak_freq])\n",
    "    stats_fft_temp = subject_data[pid]['sample_fft'].drop(columns='freq').groupby(['sid']).agg([power, peak, peak_freq])\n",
    "\n",
    "    \n",
    "    # join time-domain and frequency-domain stats\n",
    "    subject_stats[pid] = stats_temp.join(stats_fft_temp)\n",
    "    \n",
    "    \n",
    "    # combine the multi-index column names into single string\n",
    "    col_names = subject_stats[pid].columns.to_flat_index().values\n",
    "    subject_stats[pid].columns = ['_'.join(col_name) for col_name in col_names]\n",
    "    \n",
    "    subject_stats[pid].drop(columns = ['tac_min', 'tac_mean', 'tac_std'], inplace=True, errors = 'ignore')\n",
    "    subject_stats[pid].rename(columns = {'tac_max':'tac'}, inplace=True)\n",
    "    \n",
    "print('...done.')"
   ]
  },
  {
   "cell_type": "code",
   "execution_count": 19,
   "id": "5b4081d4-813a-4c05-b4b4-b60200411967",
   "metadata": {},
   "outputs": [],
   "source": [
    "# Check that the data are unique across subjects and within subjects\n",
    "\n",
    "# for pid in pid_list:\n",
    "#     print(f'\\n{pid}')\n",
    "#     display(subject_stats[pid].head(2))\n",
    "#     display(subject_stats[pid].tail(2))"
   ]
  },
  {
   "cell_type": "markdown",
   "id": "7adb82bc-685b-4a56-856d-dc2e05d71a5b",
   "metadata": {},
   "source": [
    "## Summary statistics, normalization, and feature creation"
   ]
  },
  {
   "cell_type": "code",
   "execution_count": 89,
   "id": "aeee8054-6342-48b8-8867-c4b2e8ebdd14",
   "metadata": {},
   "outputs": [],
   "source": [
    "from sklearn.discriminant_analysis import LinearDiscriminantAnalysis as LDA\n",
    "from sklearn.preprocessing import StandardScaler\n",
    "from sklearn.svm import SVC\n",
    "from sklearn.ensemble import RandomForestClassifier\n",
    "from sklearn.model_selection import train_test_split\n",
    "from sklearn import metrics"
   ]
  },
  {
   "cell_type": "code",
   "execution_count": 61,
   "id": "1b8afe3a-a543-40a7-a43c-a011e2e2c4b6",
   "metadata": {},
   "outputs": [],
   "source": [
    "targets = {}\n",
    "features = {}\n",
    "\n",
    "for pid in pid_list:\n",
    "    targets[pid] = pd.DataFrame({'tac':subject_stats[pid]['tac'],\n",
    "                                'isOverLimit': 1.0*(subject_stats[pid]['tac']>TAC_limit)})\n",
    "    \n",
    "    features[pid] = subject_stats[pid].drop(columns='tac')"
   ]
  },
  {
   "cell_type": "code",
   "execution_count": 62,
   "id": "776d5798-0f43-435b-bbe8-5e0bf2e8548a",
   "metadata": {},
   "outputs": [],
   "source": [
    "scaler = StandardScaler()\n",
    "cols = features[pid].columns\n",
    "\n",
    "for pid in pid_list:\n",
    "    data_scaled = scaler.fit_transform(features[pid])\n",
    "    features[pid] = pd.DataFrame(data_scaled, columns = cols)"
   ]
  },
  {
   "cell_type": "code",
   "execution_count": 63,
   "id": "19cefa6b-c8fb-46be-8909-5aaec37e4bf4",
   "metadata": {},
   "outputs": [],
   "source": [
    "features_df = pd.concat(features)\n",
    "targets_df = pd.concat(targets)"
   ]
  },
  {
   "cell_type": "code",
   "execution_count": 68,
   "id": "6fc5b881-cef2-4b10-811d-8edac53f59a7",
   "metadata": {},
   "outputs": [
    {
     "data": {
      "text/plain": [
       "Index(['x_mean', 'x_std', 'x_max', 'x_min', 'y_mean', 'y_std', 'y_max',\n",
       "       'y_min', 'z_mean', 'z_std', 'z_max', 'z_min', 'C1_mean', 'C1_std',\n",
       "       'C1_max', 'C1_min', 'C2_mean', 'C2_std', 'C2_max', 'C2_min', 'rho_mean',\n",
       "       'rho_std', 'rho_max', 'rho_min', 'theta_mean', 'theta_std', 'theta_max',\n",
       "       'theta_min', 'phi_mean', 'phi_std', 'phi_max', 'phi_min', 'S1_mean',\n",
       "       'S1_std', 'S1_max', 'S1_min', 'S2_mean', 'S2_std', 'S2_max', 'S2_min',\n",
       "       'x_power', 'x_peak', 'x_peak_freq', 'y_power', 'y_peak', 'y_peak_freq',\n",
       "       'z_power', 'z_peak', 'z_peak_freq', 'C1_power', 'C1_peak',\n",
       "       'C1_peak_freq', 'C2_power', 'C2_peak', 'C2_peak_freq', 'rho_power',\n",
       "       'rho_peak', 'rho_peak_freq', 'theta_power', 'theta_peak',\n",
       "       'theta_peak_freq', 'phi_power', 'phi_peak', 'phi_peak_freq', 'S1_power',\n",
       "       'S1_peak', 'S1_peak_freq', 'S2_power', 'S2_peak', 'S2_peak_freq'],\n",
       "      dtype='object')"
      ]
     },
     "execution_count": 68,
     "metadata": {},
     "output_type": "execute_result"
    }
   ],
   "source": [
    "features_df.columns"
   ]
  },
  {
   "cell_type": "code",
   "execution_count": 87,
   "id": "295b9486-2e1f-45d3-a33b-d66d3ed9eb3f",
   "metadata": {},
   "outputs": [],
   "source": [
    "X = features_df.to_numpy()\n",
    "y = targets_df['isOverLimit'].to_numpy()"
   ]
  },
  {
   "cell_type": "code",
   "execution_count": 155,
   "id": "4494036f-908c-4fc2-9673-50127c2525a7",
   "metadata": {},
   "outputs": [
    {
     "name": "stdout",
     "output_type": "stream",
     "text": [
      "Fraction of training and testing sets which are positives: \n",
      "train:\t0.47103274559193953\n",
      "test:\t0.47366763756592933\n",
      "\n",
      "Total positives: 7513.0\n",
      "(this number should not change regardless of split)\n"
     ]
    }
   ],
   "source": [
    "X_train, X_test, y_train, y_test = train_test_split(X, y, test_size=0.2)\n",
    "\n",
    "frac = lambda x: sum(x)/len(x)\n",
    "test_frac = frac(y_train)\n",
    "train_frac = frac(y_test)\n",
    "total = sum(y_train) + sum(y_test)\n",
    "\n",
    "print(f\"\"\"Fraction of training and testing sets which are positives: \n",
    "train:\\t{train_frac}\n",
    "test:\\t{test_frac}\n",
    "\n",
    "Total positives: {total}\n",
    "(this number should not change regardless of split)\"\"\")"
   ]
  },
  {
   "cell_type": "code",
   "execution_count": 149,
   "id": "0d949cdb-4940-469f-8451-d7b69dfb95e1",
   "metadata": {},
   "outputs": [],
   "source": [
    "rafo_classifier = RandomForestClassifier(max_depth)"
   ]
  },
  {
   "cell_type": "code",
   "execution_count": 150,
   "id": "faef5f7a-ebf1-48e0-8d2e-01f480b09827",
   "metadata": {},
   "outputs": [
    {
     "data": {
      "text/html": [
       "<style>#sk-container-id-5 {color: black;background-color: white;}#sk-container-id-5 pre{padding: 0;}#sk-container-id-5 div.sk-toggleable {background-color: white;}#sk-container-id-5 label.sk-toggleable__label {cursor: pointer;display: block;width: 100%;margin-bottom: 0;padding: 0.3em;box-sizing: border-box;text-align: center;}#sk-container-id-5 label.sk-toggleable__label-arrow:before {content: \"▸\";float: left;margin-right: 0.25em;color: #696969;}#sk-container-id-5 label.sk-toggleable__label-arrow:hover:before {color: black;}#sk-container-id-5 div.sk-estimator:hover label.sk-toggleable__label-arrow:before {color: black;}#sk-container-id-5 div.sk-toggleable__content {max-height: 0;max-width: 0;overflow: hidden;text-align: left;background-color: #f0f8ff;}#sk-container-id-5 div.sk-toggleable__content pre {margin: 0.2em;color: black;border-radius: 0.25em;background-color: #f0f8ff;}#sk-container-id-5 input.sk-toggleable__control:checked~div.sk-toggleable__content {max-height: 200px;max-width: 100%;overflow: auto;}#sk-container-id-5 input.sk-toggleable__control:checked~label.sk-toggleable__label-arrow:before {content: \"▾\";}#sk-container-id-5 div.sk-estimator input.sk-toggleable__control:checked~label.sk-toggleable__label {background-color: #d4ebff;}#sk-container-id-5 div.sk-label input.sk-toggleable__control:checked~label.sk-toggleable__label {background-color: #d4ebff;}#sk-container-id-5 input.sk-hidden--visually {border: 0;clip: rect(1px 1px 1px 1px);clip: rect(1px, 1px, 1px, 1px);height: 1px;margin: -1px;overflow: hidden;padding: 0;position: absolute;width: 1px;}#sk-container-id-5 div.sk-estimator {font-family: monospace;background-color: #f0f8ff;border: 1px dotted black;border-radius: 0.25em;box-sizing: border-box;margin-bottom: 0.5em;}#sk-container-id-5 div.sk-estimator:hover {background-color: #d4ebff;}#sk-container-id-5 div.sk-parallel-item::after {content: \"\";width: 100%;border-bottom: 1px solid gray;flex-grow: 1;}#sk-container-id-5 div.sk-label:hover label.sk-toggleable__label {background-color: #d4ebff;}#sk-container-id-5 div.sk-serial::before {content: \"\";position: absolute;border-left: 1px solid gray;box-sizing: border-box;top: 0;bottom: 0;left: 50%;z-index: 0;}#sk-container-id-5 div.sk-serial {display: flex;flex-direction: column;align-items: center;background-color: white;padding-right: 0.2em;padding-left: 0.2em;position: relative;}#sk-container-id-5 div.sk-item {position: relative;z-index: 1;}#sk-container-id-5 div.sk-parallel {display: flex;align-items: stretch;justify-content: center;background-color: white;position: relative;}#sk-container-id-5 div.sk-item::before, #sk-container-id-5 div.sk-parallel-item::before {content: \"\";position: absolute;border-left: 1px solid gray;box-sizing: border-box;top: 0;bottom: 0;left: 50%;z-index: -1;}#sk-container-id-5 div.sk-parallel-item {display: flex;flex-direction: column;z-index: 1;position: relative;background-color: white;}#sk-container-id-5 div.sk-parallel-item:first-child::after {align-self: flex-end;width: 50%;}#sk-container-id-5 div.sk-parallel-item:last-child::after {align-self: flex-start;width: 50%;}#sk-container-id-5 div.sk-parallel-item:only-child::after {width: 0;}#sk-container-id-5 div.sk-dashed-wrapped {border: 1px dashed gray;margin: 0 0.4em 0.5em 0.4em;box-sizing: border-box;padding-bottom: 0.4em;background-color: white;}#sk-container-id-5 div.sk-label label {font-family: monospace;font-weight: bold;display: inline-block;line-height: 1.2em;}#sk-container-id-5 div.sk-label-container {text-align: center;}#sk-container-id-5 div.sk-container {/* jupyter's `normalize.less` sets `[hidden] { display: none; }` but bootstrap.min.css set `[hidden] { display: none !important; }` so we also need the `!important` here to be able to override the default hidden behavior on the sphinx rendered scikit-learn.org. See: https://github.com/scikit-learn/scikit-learn/issues/21755 */display: inline-block !important;position: relative;}#sk-container-id-5 div.sk-text-repr-fallback {display: none;}</style><div id=\"sk-container-id-5\" class=\"sk-top-container\"><div class=\"sk-text-repr-fallback\"><pre>RandomForestClassifier()</pre><b>In a Jupyter environment, please rerun this cell to show the HTML representation or trust the notebook. <br />On GitHub, the HTML representation is unable to render, please try loading this page with nbviewer.org.</b></div><div class=\"sk-container\" hidden><div class=\"sk-item\"><div class=\"sk-estimator sk-toggleable\"><input class=\"sk-toggleable__control sk-hidden--visually\" id=\"sk-estimator-id-5\" type=\"checkbox\" checked><label for=\"sk-estimator-id-5\" class=\"sk-toggleable__label sk-toggleable__label-arrow\">RandomForestClassifier</label><div class=\"sk-toggleable__content\"><pre>RandomForestClassifier()</pre></div></div></div></div></div>"
      ],
      "text/plain": [
       "RandomForestClassifier()"
      ]
     },
     "execution_count": 150,
     "metadata": {},
     "output_type": "execute_result"
    }
   ],
   "source": [
    "rafo_classifier.fit(X_train, y_train)"
   ]
  },
  {
   "cell_type": "code",
   "execution_count": 151,
   "id": "54a617fa-41a4-434d-87a4-e6890b1b58aa",
   "metadata": {},
   "outputs": [],
   "source": [
    "y_pred = rafo_classifier.predict(X_test)"
   ]
  },
  {
   "cell_type": "code",
   "execution_count": 159,
   "id": "931b04d2-a1e0-472c-8de0-8fa1543bb2a8",
   "metadata": {},
   "outputs": [
    {
     "name": "stdout",
     "output_type": "stream",
     "text": [
      "Feature S1_peak_freq: 0.041705247215294824\n",
      "Feature theta_peak_freq: 0.03721323329047127\n",
      "Feature x_mean: 0.03250156032865696\n",
      "Feature phi_max: 0.02970009416823723\n",
      "Feature phi_power: 0.029001270923525946\n",
      "Feature phi_mean: 0.026375703188837186\n",
      "Feature x_peak: 0.02591388991425359\n",
      "Feature x_max: 0.023874923885652544\n",
      "Feature S2_max: 0.020331058278309406\n",
      "Feature y_mean: 0.020298786692967852\n",
      "Feature y_power: 0.01974822516012416\n",
      "Feature x_min: 0.01915634538491681\n",
      "Feature y_peak: 0.018242032978517446\n",
      "Feature z_mean: 0.01808335290154686\n",
      "Feature rho_peak_freq: 0.017801139583967184\n",
      "Feature rho_peak: 0.01716767804216254\n",
      "Feature y_min: 0.01672686386145732\n",
      "Feature x_std: 0.015589413467628514\n",
      "Feature rho_mean: 0.01544106061236458\n",
      "Feature C2_peak: 0.015421944209995328\n",
      "Feature y_std: 0.015408639538966708\n",
      "Feature S2_min: 0.015122425841829611\n",
      "Feature C1_power: 0.01496415756396607\n",
      "Feature z_min: 0.01494503018791572\n",
      "Feature C2_min: 0.014429095284258273\n",
      "Feature rho_min: 0.013973685116194656\n",
      "Feature S2_peak_freq: 0.01394292524814226\n",
      "Feature rho_power: 0.013777481146107226\n",
      "Feature rho_std: 0.013776762271767608\n",
      "Feature C1_std: 0.013484933028313108\n",
      "Feature C2_std: 0.013393259096471212\n",
      "Feature S2_std: 0.013130828907250798\n",
      "Feature y_max: 0.013129190326280892\n",
      "Feature x_power: 0.013024235637455488\n",
      "Feature phi_std: 0.012780801608979786\n",
      "Feature phi_peak_freq: 0.012648965771183178\n",
      "Feature C2_power: 0.01257647881925306\n",
      "Feature C1_peak: 0.012085512827133585\n",
      "Feature S2_power: 0.01188449500013758\n",
      "Feature z_power: 0.011715116092082289\n",
      "Feature z_peak: 0.011673369244764059\n",
      "Feature C1_max: 0.011389046371453318\n",
      "Feature rho_max: 0.011053642622238282\n",
      "Feature z_std: 0.011007489814282102\n",
      "Feature C2_max: 0.01098154287802912\n",
      "Feature z_max: 0.010920620108260929\n",
      "Feature x_peak_freq: 0.010840403120241841\n",
      "Feature y_peak_freq: 0.010826504424360213\n",
      "Feature C1_min: 0.01066661301588178\n",
      "Feature z_peak_freq: 0.010575917127083218\n",
      "Feature phi_min: 0.0100682314142627\n",
      "Feature C1_peak_freq: 0.009912135031912456\n",
      "Feature S2_peak: 0.009598890965997926\n",
      "Feature C2_peak_freq: 0.009446290046489416\n",
      "Feature phi_peak: 0.009392288914644387\n",
      "Feature C1_mean: 0.00873937868493838\n",
      "Feature S2_mean: 0.008483361693788907\n",
      "Feature C2_mean: 0.008327750369842126\n",
      "Feature theta_min: 0.008194588623237548\n",
      "Feature theta_max: 0.007823008466493824\n",
      "Feature S1_mean: 0.007565267560748924\n",
      "Feature S1_min: 0.007563715982363488\n",
      "Feature theta_power: 0.007496743301621102\n",
      "Feature S1_max: 0.007232498669223166\n",
      "Feature theta_mean: 0.0071831718033426\n",
      "Feature S1_peak: 0.006664951162855299\n",
      "Feature S1_std: 0.00664905247334465\n",
      "Feature S1_power: 0.006519721741133137\n",
      "Feature theta_peak: 0.006514739924353857\n",
      "Feature theta_std: 0.006201221040234747\n"
     ]
    }
   ],
   "source": [
    "metrics.f1_score(y_test, y_pred)\n",
    "fi = rafo_classifier.feature_importances_\n",
    "\n",
    "idx = np.argsort(-1*fi)\n",
    "\n",
    "for i in idx:\n",
    "    print(f'Feature {cols[i]}: {fi[i]}')"
   ]
  },
  {
   "cell_type": "code",
   "execution_count": 114,
   "id": "a1aa83cd-3167-4461-88c7-dbb1111073d1",
   "metadata": {},
   "outputs": [],
   "source": [
    "# PCcols = [c for c in features_df.columns if (c.startswith('S') or c.startswith('C'))]\n",
    "\n",
    "PCcols = features_df.columns[:]\n",
    "\n",
    "Xc = features_df[PCcols].to_numpy()\n",
    "Xc_train, Xc_test, y_train, y_test = train_test_split(Xc, y, test_size=0.2)"
   ]
  },
  {
   "cell_type": "code",
   "execution_count": 115,
   "id": "0bd5a646-425b-477f-9d74-562a5d23b23a",
   "metadata": {},
   "outputs": [],
   "source": [
    "rafo_classifier.fit(Xc_train, y_train)\n",
    "yc_pred = rafo_classifier.predict(Xc_test)"
   ]
  },
  {
   "cell_type": "code",
   "execution_count": 116,
   "id": "07f29017-2784-4dde-9be0-8afcdba65c0b",
   "metadata": {},
   "outputs": [
    {
     "data": {
      "text/plain": [
       "0.8407470288624789"
      ]
     },
     "execution_count": 116,
     "metadata": {},
     "output_type": "execute_result"
    }
   ],
   "source": [
    "metrics.f1_score(y_test, yc_pred)"
   ]
  },
  {
   "cell_type": "code",
   "execution_count": null,
   "id": "2975d7e5-65e1-4d32-8a91-0272a42c93dd",
   "metadata": {},
   "outputs": [],
   "source": [
    "stats = []\n",
    "stats_fft = []\n",
    "\n",
    "for s,sf in zip(sample, sample_fft):\n",
    "    s_temp = s.drop(columns = 'time_s').groupby(['pid', 'sid']).agg(['mean', 'std', 'max', 'min'])\n",
    "    s_temp.drop(columns = ['tac_min', 'tac_mean', 'tac_std'], inplace=True, errors = 'ignore')\n",
    "    s_temp.rename(columns = {'tac_max':'tac'}, inplace=True)\n",
    "    \n",
    "    stats.append(s_temp)\n",
    "    \n",
    "    sf_temp = sf.drop(columns='freq').groupby(['pid', 'sid']).agg([power, dc, peak, peak_freq])\n",
    "    stats_fft.append(sf_temp)"
   ]
  },
  {
   "cell_type": "code",
   "execution_count": null,
   "id": "4d8f91b1-6ba5-4873-8338-ec798db3be08",
   "metadata": {},
   "outputs": [],
   "source": [
    "sample_df.head()"
   ]
  },
  {
   "cell_type": "code",
   "execution_count": null,
   "id": "a46c4cd9-e9bb-44c1-a2d9-ba6891bcd9f5",
   "metadata": {},
   "outputs": [],
   "source": [
    "null_count(sample_fft_df)"
   ]
  },
  {
   "cell_type": "code",
   "execution_count": null,
   "id": "0e004c99-e89a-4ffc-ab6d-68a90f379035",
   "metadata": {},
   "outputs": [],
   "source": [
    "stats_df = sample_df[sample_df['pid']==pid].groupby(['pid', 'sid']).agg(['mean', 'std', 'max','min'])"
   ]
  },
  {
   "cell_type": "code",
   "execution_count": null,
   "id": "28209eb9-41fd-4e02-9089-2baa2cab1c57",
   "metadata": {},
   "outputs": [],
   "source": [
    "stats_df.plot(x = ('time_s', 'mean'), y=('tac','mean'), marker = '.')"
   ]
  },
  {
   "cell_type": "code",
   "execution_count": null,
   "id": "3097618d-6386-4085-9515-a6b7ff806887",
   "metadata": {},
   "outputs": [],
   "source": [
    "len(sample_df)/len(stats_df)"
   ]
  },
  {
   "cell_type": "code",
   "execution_count": null,
   "id": "d501ff3c-896f-4436-aead-aea21b41f864",
   "metadata": {},
   "outputs": [],
   "source": [
    "stats_df.columns = ['_'.join(col_names) for col_names in stats_df.columns.to_flat_index().values]"
   ]
  },
  {
   "cell_type": "code",
   "execution_count": null,
   "id": "5693f031-6afb-468f-8a23-08804e9743c7",
   "metadata": {},
   "outputs": [],
   "source": [
    "stats_df.head()"
   ]
  },
  {
   "cell_type": "code",
   "execution_count": null,
   "id": "cf396d3a-4487-4fae-97e8-182d9a6ffa9a",
   "metadata": {},
   "outputs": [],
   "source": [
    "stats_df.drop(columns = ['tac_min', 'tac_mean', 'tac_std'], inplace=True, errors = 'ignore')\n",
    "stats_df.rename(columns = {'tac_max':'tac'}, inplace=True)\n",
    "stats_df['tac_over_limit'] = stats_df['tac'].to_numpy()>=0.08\n",
    "stats_df.head()"
   ]
  },
  {
   "cell_type": "code",
   "execution_count": null,
   "id": "8a5704b0-391c-47c7-832d-546679611064",
   "metadata": {},
   "outputs": [],
   "source": [
    "stats_fft_df = sample_fft_df[sample_fft_df['pid']=='BK7610'].drop(columns='freq').groupby(['pid', 'sid']).agg([power, dc, peak, peak_freq])\n",
    "stats_fft_df.head()"
   ]
  },
  {
   "cell_type": "code",
   "execution_count": null,
   "id": "c4420f8f-290e-492e-906a-0b246c506f00",
   "metadata": {},
   "outputs": [],
   "source": [
    "stats_fft_df.columns = ['_'.join(col_names) for col_names in stats_fft_df.columns.to_flat_index().values]"
   ]
  },
  {
   "cell_type": "code",
   "execution_count": null,
   "id": "69d6cd26-613b-417f-9a6d-a74dbfda404f",
   "metadata": {},
   "outputs": [],
   "source": [
    "stats_fft_df.head()"
   ]
  },
  {
   "cell_type": "code",
   "execution_count": null,
   "id": "8d035db2-1cfb-4341-b2d1-6a3ae926a5f2",
   "metadata": {},
   "outputs": [],
   "source": [
    "features_df = stats_df.join(stats_fft_df, on = ['pid','sid'])\n",
    "features_df.columns"
   ]
  },
  {
   "cell_type": "code",
   "execution_count": null,
   "id": "8aeffd3b-f866-4830-8c7f-e2d677d4816b",
   "metadata": {},
   "outputs": [],
   "source": [
    "features_df['tac'].hist(bins=100)"
   ]
  },
  {
   "cell_type": "code",
   "execution_count": null,
   "id": "7e19176d-b2b4-44b0-aea1-cdc5aa7cd788",
   "metadata": {},
   "outputs": [],
   "source": [
    "null_count(features_df)"
   ]
  },
  {
   "cell_type": "code",
   "execution_count": null,
   "id": "462fdfb0-7687-4ba1-aaff-6ae52e711137",
   "metadata": {},
   "outputs": [],
   "source": [
    "features_df.groupby('tac_over_limit')['tac'].count()"
   ]
  },
  {
   "cell_type": "markdown",
   "id": "8f146a7b-e8a0-4f14-b015-b446ed142e0d",
   "metadata": {},
   "source": [
    "# Modeling, Validation, and Model Selection"
   ]
  },
  {
   "cell_type": "code",
   "execution_count": null,
   "id": "f5df6b5c-72ee-4606-b7ee-27094fff1386",
   "metadata": {},
   "outputs": [],
   "source": [
    "from sklearn.discriminant_analysis import LinearDiscriminantAnalysis as LDA\n",
    "from sklearn.preprocessing import StandardScaler\n",
    "from sklearn.model_selection import train_test_split\n",
    "from sklearn import metrics"
   ]
  },
  {
   "cell_type": "code",
   "execution_count": null,
   "id": "676f062b-681f-4c9b-a78c-d7aa5563a47b",
   "metadata": {},
   "outputs": [],
   "source": [
    "targets_df = features_df.tac"
   ]
  },
  {
   "cell_type": "code",
   "execution_count": null,
   "id": "99350063-4848-4355-84df-06bb31286162",
   "metadata": {},
   "outputs": [],
   "source": [
    "for col in features_df.columns:\n",
    "    print(f\"{col}: {features_df[col].isna().sum()}\")"
   ]
  },
  {
   "cell_type": "markdown",
   "id": "5630fcc0-6d3d-480b-8321-155be180d51f",
   "metadata": {},
   "source": [
    "## Summary"
   ]
  },
  {
   "cell_type": "markdown",
   "id": "d27c3846-860c-415e-80f6-73b0a7178ab0",
   "metadata": {},
   "source": [
    "# Sandbox below"
   ]
  },
  {
   "cell_type": "code",
   "execution_count": null,
   "id": "dd2b3a08-cdba-414f-b666-0610895eaca7",
   "metadata": {},
   "outputs": [],
   "source": [
    "np.abs(sample[1].fftx.to_numpy())[0:50]"
   ]
  },
  {
   "cell_type": "code",
   "execution_count": null,
   "id": "a033df9a-53b1-4e7d-b12b-2172c84c5954",
   "metadata": {},
   "outputs": [],
   "source": [
    "# fftx = \n",
    "# # for s in tqdm(sample):\n",
    "# #     fftx\n",
    "#sample_fft[1200].plot(x = 'freq', y = ['x', 'y', 'z', 'C1', 'C2'])\n",
    "sample_fft_df[sample_fft_df['pid'] == 'BK7610'].plot(x = 'freq', y = 'C2', marker = '.', linestyle= 'none', alpha = 0.1)\n",
    "\n",
    "plt.xlim([-0.1, 5])"
   ]
  },
  {
   "cell_type": "code",
   "execution_count": null,
   "id": "6b21e441-84c8-4d88-9ea9-a93b416eca3b",
   "metadata": {},
   "outputs": [],
   "source": [
    "# win_sec = 10  # sliding window in seconds\n",
    "# win = win_sec * 40   # sliding window size in number of samples\n",
    "# win_34 = int(3*win/4)\n",
    "\n",
    "# sample_df = pd.DataFrame()\n",
    "# for pid in pid_list:\n",
    "#     gap_idx = np.argwhere([np.diff(acc_df[pid].time_s)>0.25])[:,1]\n",
    "#     gap_idx = np.append(np.array([0]), gap_idx)\n",
    "\n",
    "#     gap_pairs = np.vstack((gap_idx[0:-2], gap_idx[1:-1])).transpose()\n",
    "#     gap_sizes = np.squeeze(np.diff(gap_pairs, axis=1))\n",
    "#     for k, gap in enumerate(gap_sizes):\n",
    "#         if gap>win:\n",
    "#             start_idx = int(((gap%(win_34))/2) + gap_idx[k])\n",
    "#             while (start_idx + win) < gap_pairs[k, 1]:\n",
    "#                 s = acc_df[pid].iloc[start_idx:(start_idx+win)].reset_index().drop(columns='index')\n",
    "#                 s = s.assign(sid=k)\n",
    "#                 sample_df = pd.concat([sample_df, s])\n",
    "#                 start_idx += win_34  "
   ]
  },
  {
   "cell_type": "code",
   "execution_count": null,
   "id": "dea33c28-2dd2-4e3e-adb6-b9a2557657fb",
   "metadata": {},
   "outputs": [],
   "source": [
    "\n",
    "\n",
    "\n"
   ]
  },
  {
   "cell_type": "code",
   "execution_count": null,
   "id": "e4953773-1a6a-4d1b-80cb-5873a5c82079",
   "metadata": {},
   "outputs": [],
   "source": [
    "test_df = sample[1].copy()\n",
    "# test_df[['rho', 'theta', 'phi']] = test_df[['x', 'y', 'z']].apply(cart_to_spherical, axis=1, result_type='expand')\n",
    "# test_df[['x', 'y', 'z']].apply(cart_to_spherical, axis=1, result_type='expand')\n",
    "\n",
    "test_df[['rho', 'theta', 'phi']] = cart_to_spherical(test_df[['x', 'y', 'z']].to_numpy())\n",
    "\n",
    "# r, t, p = cart_to_spherical(xyz)\n",
    "test_df"
   ]
  },
  {
   "cell_type": "code",
   "execution_count": null,
   "id": "d7b02580-07d0-482d-8041-4af3225409a0",
   "metadata": {},
   "outputs": [],
   "source": [
    "sample[1][['x','y','z']].agg(['mean', 'std', q25, q50, q75])"
   ]
  },
  {
   "cell_type": "code",
   "execution_count": null,
   "id": "fcad59ea-a519-4f70-bdeb-179613db6f8b",
   "metadata": {},
   "outputs": [],
   "source": []
  },
  {
   "cell_type": "code",
   "execution_count": null,
   "id": "b4095241-e96e-4d00-a7f6-eddab9f0cdfe",
   "metadata": {},
   "outputs": [],
   "source": [
    "fig, ax = plt.subplots(1,1, figsize = (20, 2))\n",
    "plt.plot(acc_df[pid].time, np.ones(np.size(acc_df[pid].time)), '.')\n",
    "plt.plot(acc_df[pid]['time'].iloc[gap_idx], np.ones(len(gap_idx)), '.')\n",
    "\n",
    "#plt.plot(np.diff(acc_df[pid].time))\n",
    "print(pid)"
   ]
  },
  {
   "cell_type": "code",
   "execution_count": null,
   "id": "1282756d-d7ca-4f88-afbb-66ced1e5c716",
   "metadata": {},
   "outputs": [],
   "source": [
    "type(sample)"
   ]
  },
  {
   "cell_type": "code",
   "execution_count": null,
   "id": "c30affdc-7fd6-4dd1-a3e4-1a511c9301e1",
   "metadata": {},
   "outputs": [],
   "source": [
    "stats = ['mean', 'std', 'max', q75, q50, q25, 'min']\n",
    "sample_grouped = sample[1][['x','y','z']].agg(stats).stack().to_frame().transpose()\n",
    "\n",
    "sample_grouped"
   ]
  },
  {
   "cell_type": "code",
   "execution_count": null,
   "id": "39d598ed-51de-466e-811b-001508232519",
   "metadata": {},
   "outputs": [],
   "source": [
    "data = []\n",
    "for k in range(5):\n",
    "    data.append([np.random.random((1,5))])\n",
    "    \n",
    "AA = pd.DataFrame(data, columns=['b'])\n",
    "\n",
    "\n",
    "AA.head()\n",
    "# for k in range(10):\n",
    "#     AA['b'].loc[k] = [np.random.random((5,3))]\n"
   ]
  },
  {
   "cell_type": "code",
   "execution_count": null,
   "id": "557a062b-e2ed-4967-9c2e-a8a3e2f55ad9",
   "metadata": {},
   "outputs": [],
   "source": [
    "5 in [5, 10, 15]"
   ]
  },
  {
   "cell_type": "code",
   "execution_count": null,
   "id": "c1f92491-2552-4477-88db-9418a4a57e58",
   "metadata": {},
   "outputs": [],
   "source": [
    "AA['b'].to_numpy().mean(axis=0)"
   ]
  },
  {
   "cell_type": "code",
   "execution_count": null,
   "id": "3bb0603f-dcf9-4ca5-9cb8-fecf7c78f644",
   "metadata": {},
   "outputs": [],
   "source": [
    "data.mean(axis=0)"
   ]
  },
  {
   "cell_type": "code",
   "execution_count": null,
   "id": "a02c5c3b-0932-45e6-bd5c-0ee971633fdc",
   "metadata": {},
   "outputs": [],
   "source": [
    "AA = pd.DataFrame({'a':[15 ,18, 11, 7], 'b':[21, 19, 20, 2]})"
   ]
  },
  {
   "cell_type": "code",
   "execution_count": null,
   "id": "e84bc60d-bd22-4086-8dae-efa0dcabe666",
   "metadata": {},
   "outputs": [],
   "source": [
    "AA.head()"
   ]
  },
  {
   "cell_type": "code",
   "execution_count": null,
   "id": "230ca92b-fe65-4b6a-afac-80607116b9d2",
   "metadata": {},
   "outputs": [],
   "source": [
    "AA.agg([lambda x: np.linalg.norm(x, axis=0)])"
   ]
  },
  {
   "cell_type": "code",
   "execution_count": null,
   "id": "1ab26558-2b46-4d13-9dc7-01bc88d2e249",
   "metadata": {},
   "outputs": [],
   "source": [
    "AA.iloc[1:].agg('idxmax')"
   ]
  },
  {
   "cell_type": "code",
   "execution_count": null,
   "id": "90ab7b82-46a9-4632-9f1d-afc5e659d9d7",
   "metadata": {},
   "outputs": [],
   "source": [
    "xx = np.array([3, 4])\n",
    "np.argmax(xx)"
   ]
  },
  {
   "cell_type": "code",
   "execution_count": null,
   "id": "4e60cb1b-8e77-4592-94b2-b9cdea768e2c",
   "metadata": {},
   "outputs": [],
   "source": []
  }
 ],
 "metadata": {
  "kernelspec": {
   "display_name": "Python 3 (ipykernel)",
   "language": "python",
   "name": "python3"
  },
  "language_info": {
   "codemirror_mode": {
    "name": "ipython",
    "version": 3
   },
   "file_extension": ".py",
   "mimetype": "text/x-python",
   "name": "python",
   "nbconvert_exporter": "python",
   "pygments_lexer": "ipython3",
   "version": "3.8.1"
  },
  "toc": {
   "base_numbering": 1,
   "nav_menu": {},
   "number_sections": true,
   "sideBar": true,
   "skip_h1_title": false,
   "title_cell": "Table of Contents",
   "title_sidebar": "Contents",
   "toc_cell": false,
   "toc_position": {},
   "toc_section_display": true,
   "toc_window_display": false
  },
  "toc-autonumbering": true,
  "varInspector": {
   "cols": {
    "lenName": 16,
    "lenType": 16,
    "lenVar": 40
   },
   "kernels_config": {
    "python": {
     "delete_cmd_postfix": "",
     "delete_cmd_prefix": "del ",
     "library": "var_list.py",
     "varRefreshCmd": "print(var_dic_list())"
    },
    "r": {
     "delete_cmd_postfix": ") ",
     "delete_cmd_prefix": "rm(",
     "library": "var_list.r",
     "varRefreshCmd": "cat(var_dic_list()) "
    }
   },
   "types_to_exclude": [
    "module",
    "function",
    "builtin_function_or_method",
    "instance",
    "_Feature"
   ],
   "window_display": false
  }
 },
 "nbformat": 4,
 "nbformat_minor": 5
}
